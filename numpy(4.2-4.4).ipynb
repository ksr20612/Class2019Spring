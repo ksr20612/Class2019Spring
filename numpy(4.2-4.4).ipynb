{
 "cells": [
  {
   "cell_type": "markdown",
   "metadata": {},
   "source": [
    "# NumPy basics"
   ]
  },
  {
   "cell_type": "markdown",
   "metadata": {},
   "source": [
    "## 1. Creation"
   ]
  },
  {
   "cell_type": "code",
   "execution_count": 1,
   "metadata": {},
   "outputs": [],
   "source": [
    "import numpy as np\n",
    "import matplotlib.pyplot as plt"
   ]
  },
  {
   "cell_type": "code",
   "execution_count": 12,
   "metadata": {
    "scrolled": true
   },
   "outputs": [
    {
     "data": {
      "text/plain": [
       "array([[443483755,  40501372,  23331188],\n",
       "       [107676035, 611254284,  57278588]])"
      ]
     },
     "execution_count": 12,
     "metadata": {},
     "output_type": "execute_result"
    }
   ],
   "source": [
    "np.empty([2,3], dtype='int')"
   ]
  },
  {
   "cell_type": "markdown",
   "metadata": {},
   "source": [
    "### np.empty([행,열], dtype='속성')\n",
    "- 랜덤으로 다음 조건에 맞는 행렬을 산출\n",
    "- list 속에 list가 들어가있는 꼴로 행렬을 표현함\n",
    "- type은 numpy.ndarray\n",
    "- 추가로 행, 열 외에 더 숫자를 넣으면 차원이 올라감"
   ]
  },
  {
   "cell_type": "code",
   "execution_count": 13,
   "metadata": {
    "scrolled": true
   },
   "outputs": [
    {
     "data": {
      "text/plain": [
       "array([[0., 0., 0.],\n",
       "       [0., 0., 0.]])"
      ]
     },
     "execution_count": 13,
     "metadata": {},
     "output_type": "execute_result"
    }
   ],
   "source": [
    "np.zeros([2,3]) #여기서는 dtype을 설정X-> . 이 자동으로 찍힘"
   ]
  },
  {
   "cell_type": "markdown",
   "metadata": {},
   "source": [
    "### np.zeros([행,열])\n",
    "- 다음 form에 맞는 모든 원소가 0인 행렬을 만들어라"
   ]
  },
  {
   "cell_type": "code",
   "execution_count": 3,
   "metadata": {
    "scrolled": true
   },
   "outputs": [
    {
     "data": {
      "text/plain": [
       "array([0., 2., 4., 6., 8.])"
      ]
     },
     "execution_count": 3,
     "metadata": {},
     "output_type": "execute_result"
    }
   ],
   "source": [
    "np.arange(0,10,2, dtype='float')"
   ]
  },
  {
   "cell_type": "code",
   "execution_count": 4,
   "metadata": {},
   "outputs": [
    {
     "data": {
      "text/plain": [
       "array([0., 2., 4., 6., 8.])"
      ]
     },
     "execution_count": 4,
     "metadata": {},
     "output_type": "execute_result"
    }
   ],
   "source": [
    "np.arange(0,10,2, dtype='float64')"
   ]
  },
  {
   "cell_type": "markdown",
   "metadata": {},
   "source": [
    "### np.arange(처음숫자, 마지막범위-표현x-, 간격, dtype='속성')\n",
    "- 간격을 설정하고 싶을 때\n",
    "- 참고) float64는 더 긴 소수\n",
    "-  5.1 참고할것@@@@@@@@@@@@@"
   ]
  },
  {
   "cell_type": "code",
   "execution_count": 16,
   "metadata": {},
   "outputs": [
    {
     "data": {
      "text/plain": [
       "array([ 0. ,  2.5,  5. ,  7.5, 10. ])"
      ]
     },
     "execution_count": 16,
     "metadata": {},
     "output_type": "execute_result"
    }
   ],
   "source": [
    "np.linspace(0,10,5, dtype=float) #0부터 10까지 element 6개"
   ]
  },
  {
   "cell_type": "markdown",
   "metadata": {},
   "source": [
    "### np.linspace(처음숫자, 마지막 숫자, 원소 개수, dtype=속성)\n",
    "- 간격이 아니라 원소 개수로 표현함"
   ]
  },
  {
   "cell_type": "code",
   "execution_count": 18,
   "metadata": {},
   "outputs": [
    {
     "data": {
      "text/plain": [
       "array([[1, 2, 3],\n",
       "       [4, 5, 6]])"
      ]
     },
     "execution_count": 18,
     "metadata": {},
     "output_type": "execute_result"
    }
   ],
   "source": [
    "X = np.array([[1,2,3],[4,5,6]])\n",
    "X"
   ]
  },
  {
   "cell_type": "markdown",
   "metadata": {},
   "source": [
    "### np.array()\n",
    "- 행렬화"
   ]
  },
  {
   "cell_type": "code",
   "execution_count": 8,
   "metadata": {
    "scrolled": true
   },
   "outputs": [
    {
     "data": {
      "text/plain": [
       "array([[1., 2., 3.],\n",
       "       [4., 5., 6.]])"
      ]
     },
     "execution_count": 8,
     "metadata": {},
     "output_type": "execute_result"
    }
   ],
   "source": [
    "X.astype(np.float64)"
   ]
  },
  {
   "cell_type": "markdown",
   "metadata": {},
   "source": [
    "### 행렬.astype(np.속성)\n",
    "- 행렬의 원소들을 다음 속성으로 바꿔라."
   ]
  },
  {
   "cell_type": "code",
   "execution_count": 9,
   "metadata": {
    "scrolled": true
   },
   "outputs": [
    {
     "data": {
      "text/plain": [
       "array([[0, 0, 0],\n",
       "       [0, 0, 0]])"
      ]
     },
     "execution_count": 9,
     "metadata": {},
     "output_type": "execute_result"
    }
   ],
   "source": [
    "np.zeros_like(X)"
   ]
  },
  {
   "cell_type": "code",
   "execution_count": 19,
   "metadata": {},
   "outputs": [
    {
     "ename": "TypeError",
     "evalue": "only integer scalar arrays can be converted to a scalar index",
     "output_type": "error",
     "traceback": [
      "\u001b[1;31m---------------------------------------------------------------------------\u001b[0m",
      "\u001b[1;31mTypeError\u001b[0m                                 Traceback (most recent call last)",
      "\u001b[1;32m<ipython-input-19-c5d0479e5665>\u001b[0m in \u001b[0;36m<module>\u001b[1;34m()\u001b[0m\n\u001b[1;32m----> 1\u001b[1;33m \u001b[0mnp\u001b[0m\u001b[1;33m.\u001b[0m\u001b[0mzeros\u001b[0m\u001b[1;33m(\u001b[0m\u001b[0mX\u001b[0m\u001b[1;33m)\u001b[0m\u001b[1;33m\u001b[0m\u001b[0m\n\u001b[0m",
      "\u001b[1;31mTypeError\u001b[0m: only integer scalar arrays can be converted to a scalar index"
     ]
    }
   ],
   "source": [
    "np.zeros(X)"
   ]
  },
  {
   "cell_type": "markdown",
   "metadata": {},
   "source": [
    "### np.zeros_like(행렬)\n",
    "- 제로화.\n",
    "- np.zeros랑 똑같은 거 같은데? np.zeros는 직접적인 행렬의 표현이 필요한가봄"
   ]
  },
  {
   "cell_type": "code",
   "execution_count": 26,
   "metadata": {
    "scrolled": true
   },
   "outputs": [
    {
     "name": "stdout",
     "output_type": "stream",
     "text": [
      "[ 0.8417738  -1.41103956  1.0107424  -2.77106896 -0.94482069  0.75459965\n",
      " -0.22397369  1.60535107 -0.61988909 -2.00089705  0.60712844 -0.93610623\n",
      " -0.60491043  2.46445833  0.68067465  0.42283965 -2.09184369 -0.99291002\n",
      "  0.42992707  0.15475848  0.82501534 -0.27009634  0.24644564  2.31824506\n",
      "  0.62936951 -0.64341981 -1.93436367 -0.30358678  0.29979309 -0.9993596\n",
      " -0.39487431 -0.7904803   0.9978256   1.74585889  1.82994406 -1.72679573\n",
      "  0.42982351 -0.65984702 -0.33338442 -1.46299061 -0.01382548  0.57370326\n",
      " -0.17570948 -1.50133905  1.97691074 -0.90851579 -0.07872887  0.98641117\n",
      " -0.4869608   0.02715836 -1.01455869 -0.49776482  1.30003786  0.54471583\n",
      "  0.23445497  0.37844351  1.27904435 -1.66566229  0.18481371 -0.29618197\n",
      " -0.18169091  0.06603847 -0.98764917 -0.13328533 -0.49731406  0.17354764\n",
      " -0.60482935 -0.1491929   1.02201155 -1.104668    0.00490474 -0.28897307\n",
      " -1.35421425 -1.6082669   1.95150229 -0.89414102  1.12459402  0.29984335\n",
      " -1.0043093  -0.47726528  0.95142062 -0.38465959  2.18882537 -0.30239251\n",
      " -0.09343754 -1.92685756  1.16344831  1.62076652  0.89667876  2.07568224\n",
      "  1.60181654  0.45569495 -1.68804043  1.71313223  0.97469839  0.09691446\n",
      "  0.55689401 -0.81439977  1.06560785 -0.03090855]\n"
     ]
    },
    {
     "data": {
      "image/png": "[encoded data removed]",
      "text/plain": [
       "<Figure size 432x288 with 1 Axes>"
      ]
     },
     "metadata": {},
     "output_type": "display_data"
    }
   ],
   "source": [
    "data = np.random.normal(0,1, 100) #random number를 만들어주는데, 0을 평균값으로, 1만큼 왔다갔다하는 숫자를 100개 만들어라\n",
    "print(data)\n",
    "plt.hist(data, bins=20)\n",
    "#hist() -> 히스토그램 만들기, bins=바구니, 세로선 개수\n",
    "plt.show()"
   ]
  },
  {
   "cell_type": "markdown",
   "metadata": {},
   "source": [
    "   ### np.normal(평균, 분산, 개수)\n",
    "- 다음 조건에 맞는 정규분포표를 만들어 주세요\n",
    "   ### np.random\n",
    "- 아무 숫자나 랜덤하게 골라서\n",
    "   ### plt.hist(정규분포표, bins=세로선개수)\n",
    "- 히스토그램을 만들어 주세요"
   ]
  },
  {
   "cell_type": "markdown",
   "metadata": {},
   "source": [
    "## 2. Manipulation"
   ]
  },
  {
   "cell_type": "code",
   "execution_count": 24,
   "metadata": {
    "scrolled": true
   },
   "outputs": [
    {
     "data": {
      "text/plain": [
       "array([[[1., 1., 1., 1.],\n",
       "        [1., 1., 1., 1.],\n",
       "        [1., 1., 1., 1.]],\n",
       "\n",
       "       [[1., 1., 1., 1.],\n",
       "        [1., 1., 1., 1.],\n",
       "        [1., 1., 1., 1.]]])"
      ]
     },
     "execution_count": 24,
     "metadata": {},
     "output_type": "execute_result"
    }
   ],
   "source": [
    "X = np.ones([2, 3, 4]) # 총 element는 2*3*4=24\n",
    "X # 총 element를 두개로 나누고 3개로 나누고 마지막으로 4개로 나눠라"
   ]
  },
  {
   "cell_type": "markdown",
   "metadata": {},
   "source": [
    "### np.ones(행렬)\n",
    "- 모든 원소를 1로"
   ]
  },
  {
   "cell_type": "code",
   "execution_count": 27,
   "metadata": {
    "scrolled": true
   },
   "outputs": [
    {
     "data": {
      "text/plain": [
       "array([[[[1., 1.],\n",
       "         [1., 1.],\n",
       "         [1., 1.],\n",
       "         [1., 1.]],\n",
       "\n",
       "        [[1., 1.],\n",
       "         [1., 1.],\n",
       "         [1., 1.],\n",
       "         [1., 1.]],\n",
       "\n",
       "        [[1., 1.],\n",
       "         [1., 1.],\n",
       "         [1., 1.],\n",
       "         [1., 1.]]],\n",
       "\n",
       "\n",
       "       [[[1., 1.],\n",
       "         [1., 1.],\n",
       "         [1., 1.],\n",
       "         [1., 1.]],\n",
       "\n",
       "        [[1., 1.],\n",
       "         [1., 1.],\n",
       "         [1., 1.],\n",
       "         [1., 1.]],\n",
       "\n",
       "        [[1., 1.],\n",
       "         [1., 1.],\n",
       "         [1., 1.],\n",
       "         [1., 1.]]]])"
      ]
     },
     "execution_count": 27,
     "metadata": {},
     "output_type": "execute_result"
    }
   ],
   "source": [
    "X1 = np.ones([2, 3, 4, 2]) # 총 원소는 48개 -> 24 / 24 -> 8/8/8 // ...\n",
    "X1 "
   ]
  },
  {
   "cell_type": "markdown",
   "metadata": {},
   "source": [
    "### 정보variables의 개수에 따라서 차원이 높아진다!!"
   ]
  },
  {
   "cell_type": "code",
   "execution_count": 49,
   "metadata": {},
   "outputs": [
    {
     "data": {
      "text/plain": [
       "array([[[ 182294296,        554,         64,          0],\n",
       "        [         0,          0,          0,          0],\n",
       "        [         0,          0,  892809784, 1650615608]],\n",
       "\n",
       "       [[ 862271330, 1630626916,  862140464, 1684366905],\n",
       "        [1667444784, 1630823989,  946103863, 1664312371],\n",
       "        [1681339193,  842228272, 1630877745, 1714762851]]])"
      ]
     },
     "execution_count": 49,
     "metadata": {},
     "output_type": "execute_result"
    }
   ],
   "source": [
    "X2=np.empty([2,3,4], dtype=int)\n",
    "X2"
   ]
  },
  {
   "cell_type": "code",
   "execution_count": 50,
   "metadata": {
    "scrolled": true
   },
   "outputs": [
    {
     "data": {
      "text/plain": [
       "array([[[ 182294296,        554],\n",
       "        [        64,          0],\n",
       "        [         0,          0]],\n",
       "\n",
       "       [[         0,          0],\n",
       "        [         0,          0],\n",
       "        [ 892809784, 1650615608]],\n",
       "\n",
       "       [[ 862271330, 1630626916],\n",
       "        [ 862140464, 1684366905],\n",
       "        [1667444784, 1630823989]],\n",
       "\n",
       "       [[ 946103863, 1664312371],\n",
       "        [1681339193,  842228272],\n",
       "        [1630877745, 1714762851]]])"
      ]
     },
     "execution_count": 50,
     "metadata": {},
     "output_type": "execute_result"
    }
   ],
   "source": [
    "Y = X2.reshape(-1, 3, 2) # -1 = 어떤 수가 들어가야 할 지 모를 때 사용. 한 번만 유효하겠음 => 여기서는 4(x * 3 * 2 = 24)\n",
    "Y"
   ]
  },
  {
   "cell_type": "markdown",
   "metadata": {},
   "source": [
    "### 행렬.reshape(행,열,...)\n",
    "- 총 원소의 개수와 구성은 동일하나 원소의 배치를 다르게!"
   ]
  },
  {
   "cell_type": "code",
   "execution_count": 52,
   "metadata": {
    "scrolled": true
   },
   "outputs": [
    {
     "data": {
      "text/plain": [
       "True"
      ]
     },
     "execution_count": 52,
     "metadata": {},
     "output_type": "execute_result"
    }
   ],
   "source": [
    "np.allclose(X2.reshape(-1, 3, 2), Y)"
   ]
  },
  {
   "cell_type": "markdown",
   "metadata": {},
   "source": [
    "### np.allclose(행렬1, 행렬2)\n",
    "- 행렬1과 행렬2의 원소들이 모두 동일하냐?"
   ]
  },
  {
   "cell_type": "code",
   "execution_count": 69,
   "metadata": {},
   "outputs": [],
   "source": [
    "assert np.allclose(X2.reshape(-1, 3, 2), Y)\n",
    "# assert: 다음 수식이 옳지 않으면 오류 메세지를 표시하고 프로그램을 중지시키시오.\n",
    "# 우리가 보통 만나는 오류창이 얘임"
   ]
  },
  {
   "cell_type": "markdown",
   "metadata": {},
   "source": [
    "## 3. NumPy I/O(input/output)"
   ]
  },
  {
   "cell_type": "code",
   "execution_count": 70,
   "metadata": {},
   "outputs": [],
   "source": [
    "a = np.random.randint(0, 10, [2, 3]) # 랜덤하게 [2,3] 행렬만드는데, 0부터 10까지의 정수(int)만을 사용할 것\n",
    "b = np.random.random([2, 3]) # 랜덤하게 [2,3] 행렬 만들어라\n",
    "np.savez(\"test\", a, b)"
   ]
  },
  {
   "cell_type": "markdown",
   "metadata": {},
   "source": [
    "savez => variable을 'test'라는 이름으로 메모리에 저장하기"
   ]
  },
  {
   "cell_type": "code",
   "execution_count": 71,
   "metadata": {
    "scrolled": true
   },
   "outputs": [
    {
     "name": "stdout",
     "output_type": "stream",
     "text": [
      "[[9 0 0]\n",
      " [1 2 3]]\n",
      "[[0.08383723 0.81122752 0.75813375]\n",
      " [0.55366117 0.45065367 0.50782172]]\n"
     ]
    }
   ],
   "source": [
    "print(a)\n",
    "print(b)"
   ]
  },
  {
   "cell_type": "markdown",
   "metadata": {},
   "source": [
    "### np.random.randint(범,위, 모양)\n",
    "- 정수로 랜덤 행렬 만들기\n",
    "### np.random.random(모양)\n",
    "- 랜덤 행렬 만들기"
   ]
  },
  {
   "cell_type": "code",
   "execution_count": 21,
   "metadata": {
    "scrolled": true
   },
   "outputs": [
    {
     "name": "stderr",
     "output_type": "stream",
     "text": [
      "'ls'은(는) 내부 또는 외부 명령, 실행할 수 있는 프로그램, 또는\n",
      "배치 파일이 아닙니다.\n"
     ]
    }
   ],
   "source": [
    "!ls -al test* #윈도우라서 안됩니다....\n",
    "#리눅스 명령문"
   ]
  },
  {
   "cell_type": "code",
   "execution_count": 61,
   "metadata": {},
   "outputs": [
    {
     "name": "stdout",
     "output_type": "stream",
     "text": [
      "X\t X1\t X2\t Y\t np\t plt\t \n"
     ]
    }
   ],
   "source": [
    "%who"
   ]
  },
  {
   "cell_type": "code",
   "execution_count": 60,
   "metadata": {
    "scrolled": true
   },
   "outputs": [
    {
     "name": "stdout",
     "output_type": "stream",
     "text": [
      "X\t X1\t X2\t Y\t np\t plt\t \n"
     ]
    }
   ],
   "source": [
    "del a , b # %who에서 a,b 는 빼고\n",
    "%who  "
   ]
  },
  {
   "cell_type": "markdown",
   "metadata": {},
   "source": [
    "지금까지 만들어 놓은-memory 상에 있는- variables"
   ]
  },
  {
   "cell_type": "code",
   "execution_count": 72,
   "metadata": {},
   "outputs": [
    {
     "data": {
      "text/plain": [
       "['arr_0', 'arr_1']"
      ]
     },
     "execution_count": 72,
     "metadata": {},
     "output_type": "execute_result"
    }
   ],
   "source": [
    "npzfiles = np.load(\"test.npz\") # test 파일 불러오기\n",
    "npzfiles.files"
   ]
  },
  {
   "cell_type": "code",
   "execution_count": 73,
   "metadata": {},
   "outputs": [
    {
     "data": {
      "text/plain": [
       "array([[9, 0, 0],\n",
       "       [1, 2, 3]])"
      ]
     },
     "execution_count": 73,
     "metadata": {},
     "output_type": "execute_result"
    }
   ],
   "source": [
    "npzfiles['arr_0']"
   ]
  },
  {
   "cell_type": "code",
   "execution_count": 74,
   "metadata": {
    "scrolled": false
   },
   "outputs": [
    {
     "data": {
      "text/plain": [
       "(17,)"
      ]
     },
     "execution_count": 74,
     "metadata": {},
     "output_type": "execute_result"
    }
   ],
   "source": [
    "data = np.loadtxt(\"regression.csv\", delimiter=\",\", skiprows=1, dtype={'names':(\"X\", \"Y\"), 'formats':('f', 'f')})\n",
    "data.shape"
   ]
  },
  {
   "cell_type": "code",
   "execution_count": 75,
   "metadata": {},
   "outputs": [
    {
     "data": {
      "text/plain": [
       "'\\n참고) regression.csv는 어떻게 표현되어 있는가?\\nX,Y\\n3.3,1.7\\n4.4,2.76\\n5.5,2.09\\n6.71,3.19\\n6.93,1.694\\n4.168,1.573\\n9.779,3.366\\n6.182,2.596\\n7.59,2.53\\n2.167,1.221\\n7.042,2.827\\n10.791,3.465\\n5.313,1.65\\n7.997,2.904\\n5.654,2.42\\n9.27,2.94\\n3.1,1.3\\n'"
      ]
     },
     "execution_count": 75,
     "metadata": {},
     "output_type": "execute_result"
    }
   ],
   "source": [
    "'''\n",
    "참고) regression.csv는 이렇게 쓰여져 있다.\n",
    "X,Y\n",
    "3.3,1.7\n",
    "4.4,2.76\n",
    "5.5,2.09\n",
    "6.71,3.19\n",
    "6.93,1.694\n",
    "4.168,1.573\n",
    "9.779,3.366\n",
    "6.182,2.596\n",
    "7.59,2.53\n",
    "2.167,1.221\n",
    "7.042,2.827\n",
    "10.791,3.465\n",
    "5.313,1.65\n",
    "7.997,2.904\n",
    "5.654,2.42\n",
    "9.27,2.94\n",
    "3.1,1.3\n",
    "'''"
   ]
  },
  {
   "cell_type": "code",
   "execution_count": 76,
   "metadata": {},
   "outputs": [
    {
     "data": {
      "text/plain": [
       "array([( 3.3  , 1.7  ), ( 4.4  , 2.76 ), ( 5.5  , 2.09 ), ( 6.71 , 3.19 ),\n",
       "       ( 6.93 , 1.694), ( 4.168, 1.573), ( 9.779, 3.366), ( 6.182, 2.596),\n",
       "       ( 7.59 , 2.53 ), ( 2.167, 1.221), ( 7.042, 2.827), (10.791, 3.465),\n",
       "       ( 5.313, 1.65 ), ( 7.997, 2.904), ( 5.654, 2.42 ), ( 9.27 , 2.94 ),\n",
       "       ( 3.1  , 1.3  )], dtype=[('X', '<f4'), ('Y', '<f4')])"
      ]
     },
     "execution_count": 76,
     "metadata": {},
     "output_type": "execute_result"
    }
   ],
   "source": [
    "data = np.loadtxt(\"regression.csv\", delimiter=\",\", skiprows=1, dtype={'names':(\"X\", \"Y\"), 'formats':('f', 'f')})\n",
    "data\n",
    "# 첫줄('x,y') 빼고, x와 y의 애들을 '소수','소수' 형식에 맞춰서 표현해라"
   ]
  },
  {
   "cell_type": "markdown",
   "metadata": {},
   "source": [
    "참고) delimiter -> ','로 구분하는 포맷 / skiprows = skip할 친구"
   ]
  },
  {
   "cell_type": "code",
   "execution_count": 50,
   "metadata": {},
   "outputs": [
    {
     "name": "stdout",
     "output_type": "stream",
     "text": [
      "-rw-r--r--@ 1 jookai  staff  850 Apr  2 00:38 regression_saved.csv\n"
     ]
    }
   ],
   "source": [
    "np.savetxt(\"regression_saved.csv\", data, delimiter=\",\") #저장하기\n",
    "!ls -al regression_saved.csv"
   ]
  },
  {
   "cell_type": "markdown",
   "metadata": {},
   "source": [
    "## 4. Inspecting"
   ]
  },
  {
   "cell_type": "code",
   "execution_count": 79,
   "metadata": {},
   "outputs": [
    {
     "data": {
      "text/plain": [
       "array([[[0.28329964, 0.52328718, 0.11936695],\n",
       "        [0.07529056, 0.22795874, 0.2119085 ]],\n",
       "\n",
       "       [[0.94654737, 0.83430335, 0.83487762],\n",
       "        [0.52415571, 0.10083054, 0.81844087]],\n",
       "\n",
       "       [[0.55713383, 0.26011387, 0.98251163],\n",
       "        [0.95622306, 0.96468091, 0.37997832]],\n",
       "\n",
       "       [[0.60318715, 0.21254899, 0.40128416],\n",
       "        [0.42198419, 0.51280375, 0.80933015]]])"
      ]
     },
     "execution_count": 79,
     "metadata": {},
     "output_type": "execute_result"
    }
   ],
   "source": [
    "arr = np.random.random([4,2,3]) # 조건 없이 랜덤하게 [5,2,3] 행렬 만들어라\n",
    "arr"
   ]
  },
  {
   "cell_type": "code",
   "execution_count": 80,
   "metadata": {},
   "outputs": [
    {
     "name": "stdout",
     "output_type": "stream",
     "text": [
      "<class 'numpy.ndarray'>\n",
      "4\n",
      "(4, 2, 3)\n",
      "3\n",
      "24\n",
      "float64\n"
     ]
    }
   ],
   "source": [
    "print(type(arr))\n",
    "print(len(arr)) # len는 제일 앞에 것[5,2,3] 만 가져온다\n",
    "print(arr.shape) # 모양이 뭐냐?\n",
    "print(arr.ndim) # n dimention 몇차원이냐?\n",
    "print(arr.size) # 총 element 개수가 몇개냐?\n",
    "print(arr.dtype) # dtype(원소조건)이 뭐냐?"
   ]
  },
  {
   "cell_type": "markdown",
   "metadata": {},
   "source": [
    "## 5. Operations"
   ]
  },
  {
   "cell_type": "markdown",
   "metadata": {},
   "source": [
    "### 5.1 Arithmetic"
   ]
  },
  {
   "cell_type": "code",
   "execution_count": 82,
   "metadata": {},
   "outputs": [
    {
     "data": {
      "text/plain": [
       "(array([1, 2, 3, 4]), array([9, 8, 7, 6]))"
      ]
     },
     "execution_count": 82,
     "metadata": {},
     "output_type": "execute_result"
    }
   ],
   "source": [
    "a = np.arange(1, 5) # incremental -> 1 여기서는 생략됨\n",
    "b = np.arange(9, 5, -1) # descending -> -1\n",
    "a, b"
   ]
  },
  {
   "cell_type": "markdown",
   "metadata": {},
   "source": [
    "참고) arange -> 간격설정. 간격 안쓰면 1씩 커지는 등차수열. 간격이 음수면 그만큼 작아지는 등차수열"
   ]
  },
  {
   "cell_type": "code",
   "execution_count": 83,
   "metadata": {
    "scrolled": true
   },
   "outputs": [
    {
     "name": "stdout",
     "output_type": "stream",
     "text": [
      "[-8 -6 -4 -2]\n",
      "[ 9 16 21 24]\n"
     ]
    }
   ],
   "source": [
    "print(a - b)\n",
    "print(a * b) # 그냥 같은 자리 애들끼리 곱하기"
   ]
  },
  {
   "cell_type": "code",
   "execution_count": 85,
   "metadata": {},
   "outputs": [
    {
     "data": {
      "text/plain": [
       "(matrix([[1, 2, 3, 4]]), matrix([[9, 8, 7, 6]]))"
      ]
     },
     "execution_count": 85,
     "metadata": {},
     "output_type": "execute_result"
    }
   ],
   "source": [
    "a = np.matrix(a) # matrix화. 이제 실제 행렬처럼 작동함. 차원이 중요해짐(2차원)\n",
    "b = np.matrix(b)\n",
    "a, b # one by four"
   ]
  },
  {
   "cell_type": "code",
   "execution_count": 45,
   "metadata": {},
   "outputs": [
    {
     "ename": "ValueError",
     "evalue": "shapes (1,4) and (1,4) not aligned: 4 (dim 1) != 1 (dim 0)",
     "output_type": "error",
     "traceback": [
      "\u001b[1;31m---------------------------------------------------------------------------\u001b[0m",
      "\u001b[1;31mValueError\u001b[0m                                Traceback (most recent call last)",
      "\u001b[1;32m<ipython-input-45-8ce765dcfa30>\u001b[0m in \u001b[0;36m<module>\u001b[1;34m()\u001b[0m\n\u001b[1;32m----> 1\u001b[1;33m \u001b[0ma\u001b[0m\u001b[1;33m*\u001b[0m\u001b[0mb\u001b[0m\u001b[1;33m\u001b[0m\u001b[0m\n\u001b[0m",
      "\u001b[1;32mC:\\ProgramData\\Anaconda3\\lib\\site-packages\\numpy\\matrixlib\\defmatrix.py\u001b[0m in \u001b[0;36m__mul__\u001b[1;34m(self, other)\u001b[0m\n\u001b[0;32m    307\u001b[0m         \u001b[1;32mif\u001b[0m \u001b[0misinstance\u001b[0m\u001b[1;33m(\u001b[0m\u001b[0mother\u001b[0m\u001b[1;33m,\u001b[0m \u001b[1;33m(\u001b[0m\u001b[0mN\u001b[0m\u001b[1;33m.\u001b[0m\u001b[0mndarray\u001b[0m\u001b[1;33m,\u001b[0m \u001b[0mlist\u001b[0m\u001b[1;33m,\u001b[0m \u001b[0mtuple\u001b[0m\u001b[1;33m)\u001b[0m\u001b[1;33m)\u001b[0m \u001b[1;33m:\u001b[0m\u001b[1;33m\u001b[0m\u001b[0m\n\u001b[0;32m    308\u001b[0m             \u001b[1;31m# This promotes 1-D vectors to row vectors\u001b[0m\u001b[1;33m\u001b[0m\u001b[1;33m\u001b[0m\u001b[0m\n\u001b[1;32m--> 309\u001b[1;33m             \u001b[1;32mreturn\u001b[0m \u001b[0mN\u001b[0m\u001b[1;33m.\u001b[0m\u001b[0mdot\u001b[0m\u001b[1;33m(\u001b[0m\u001b[0mself\u001b[0m\u001b[1;33m,\u001b[0m \u001b[0masmatrix\u001b[0m\u001b[1;33m(\u001b[0m\u001b[0mother\u001b[0m\u001b[1;33m)\u001b[0m\u001b[1;33m)\u001b[0m\u001b[1;33m\u001b[0m\u001b[0m\n\u001b[0m\u001b[0;32m    310\u001b[0m         \u001b[1;32mif\u001b[0m \u001b[0misscalar\u001b[0m\u001b[1;33m(\u001b[0m\u001b[0mother\u001b[0m\u001b[1;33m)\u001b[0m \u001b[1;32mor\u001b[0m \u001b[1;32mnot\u001b[0m \u001b[0mhasattr\u001b[0m\u001b[1;33m(\u001b[0m\u001b[0mother\u001b[0m\u001b[1;33m,\u001b[0m \u001b[1;34m'__rmul__'\u001b[0m\u001b[1;33m)\u001b[0m \u001b[1;33m:\u001b[0m\u001b[1;33m\u001b[0m\u001b[0m\n\u001b[0;32m    311\u001b[0m             \u001b[1;32mreturn\u001b[0m \u001b[0mN\u001b[0m\u001b[1;33m.\u001b[0m\u001b[0mdot\u001b[0m\u001b[1;33m(\u001b[0m\u001b[0mself\u001b[0m\u001b[1;33m,\u001b[0m \u001b[0mother\u001b[0m\u001b[1;33m)\u001b[0m\u001b[1;33m\u001b[0m\u001b[0m\n",
      "\u001b[1;31mValueError\u001b[0m: shapes (1,4) and (1,4) not aligned: 4 (dim 1) != 1 (dim 0)"
     ]
    }
   ],
   "source": [
    "a*b"
   ]
  },
  {
   "cell_type": "code",
   "execution_count": 46,
   "metadata": {},
   "outputs": [
    {
     "data": {
      "text/plain": [
       "matrix([[70]])"
      ]
     },
     "execution_count": 46,
     "metadata": {},
     "output_type": "execute_result"
    }
   ],
   "source": [
    "a * b.T # one by one"
   ]
  },
  {
   "cell_type": "code",
   "execution_count": 47,
   "metadata": {
    "scrolled": true
   },
   "outputs": [
    {
     "data": {
      "text/plain": [
       "matrix([[ 9,  8,  7,  6],\n",
       "        [18, 16, 14, 12],\n",
       "        [27, 24, 21, 18],\n",
       "        [36, 32, 28, 24]])"
      ]
     },
     "execution_count": 47,
     "metadata": {},
     "output_type": "execute_result"
    }
   ],
   "source": [
    "a.T * b # four by four"
   ]
  },
  {
   "cell_type": "markdown",
   "metadata": {},
   "source": [
    "첫 수업에 했던 거니까 정리해 놓은 것 보기"
   ]
  },
  {
   "cell_type": "markdown",
   "metadata": {},
   "source": [
    "### 5.2 Comparison: 조건으로 원소 비교하기(== / > / <)"
   ]
  },
  {
   "cell_type": "code",
   "execution_count": 87,
   "metadata": {},
   "outputs": [
    {
     "name": "stdout",
     "output_type": "stream",
     "text": [
      "[[1 2 3]\n",
      " [4 5 6]\n",
      " [7 8 9]]\n",
      "[[9 8 7]\n",
      " [6 5 4]\n",
      " [3 2 1]]\n"
     ]
    }
   ],
   "source": [
    "a = np.arange(1, 10).reshape(3,3)\n",
    "b = np.arange(9, 0, -1).reshape(3,3)\n",
    "print(a)\n",
    "print(b)"
   ]
  },
  {
   "cell_type": "code",
   "execution_count": 65,
   "metadata": {},
   "outputs": [
    {
     "data": {
      "text/plain": [
       "array([[False, False, False],\n",
       "       [False,  True, False],\n",
       "       [False, False, False]])"
      ]
     },
     "execution_count": 65,
     "metadata": {},
     "output_type": "execute_result"
    }
   ],
   "source": [
    "a == b #a와 b가 같냐?"
   ]
  },
  {
   "cell_type": "code",
   "execution_count": 66,
   "metadata": {
    "scrolled": true
   },
   "outputs": [
    {
     "data": {
      "text/plain": [
       "array([[False, False, False],\n",
       "       [False, False,  True],\n",
       "       [ True,  True,  True]])"
      ]
     },
     "execution_count": 66,
     "metadata": {},
     "output_type": "execute_result"
    }
   ],
   "source": [
    "a > b"
   ]
  },
  {
   "cell_type": "markdown",
   "metadata": {},
   "source": [
    "### 5.3 Aggregate (sum, min, max, mean, median, std)"
   ]
  },
  {
   "cell_type": "code",
   "execution_count": 50,
   "metadata": {},
   "outputs": [
    {
     "data": {
      "text/plain": [
       "(45, 45)"
      ]
     },
     "execution_count": 50,
     "metadata": {},
     "output_type": "execute_result"
    }
   ],
   "source": [
    "a.sum(), np.sum(a) #모든 원소의 합을 구하는 두 가지 방식. 결과값은 같음"
   ]
  },
  {
   "cell_type": "code",
   "execution_count": 68,
   "metadata": {},
   "outputs": [
    {
     "data": {
      "text/plain": [
       "(array([12, 15, 18]), array([12, 15, 18]))"
      ]
     },
     "execution_count": 68,
     "metadata": {},
     "output_type": "execute_result"
    }
   ],
   "source": [
    "a.sum(axis=0), np.sum(a, axis=0) # axis 0-low 방향- 한 행만 남기고 위로 다 붙여서 올려라"
   ]
  },
  {
   "cell_type": "code",
   "execution_count": 51,
   "metadata": {},
   "outputs": [
    {
     "data": {
      "text/plain": [
       "(array([ 6, 15, 24]), array([ 6, 15, 24]))"
      ]
     },
     "execution_count": 51,
     "metadata": {},
     "output_type": "execute_result"
    }
   ],
   "source": [
    "a.sum(axis=1), np.sum(a, axis=1) # aixs 1-1열만 남기고 밀어서 붙여라"
   ]
  },
  {
   "cell_type": "markdown",
   "metadata": {},
   "source": [
    "## Broadcasting"
   ]
  },
  {
   "cell_type": "code",
   "execution_count": 53,
   "metadata": {},
   "outputs": [
    {
     "data": {
      "text/plain": [
       "array([[ 1,  2,  3,  4,  5,  6],\n",
       "       [ 7,  8,  9, 10, 11, 12],\n",
       "       [13, 14, 15, 16, 17, 18],\n",
       "       [19, 20, 21, 22, 23, 24]])"
      ]
     },
     "execution_count": 53,
     "metadata": {},
     "output_type": "execute_result"
    }
   ],
   "source": [
    "a = np.arange(1, 25).reshape(4, 6)\n",
    "a"
   ]
  },
  {
   "cell_type": "code",
   "execution_count": 71,
   "metadata": {},
   "outputs": [
    {
     "data": {
      "text/plain": [
       "array([[101, 102, 103, 104, 105, 106],\n",
       "       [107, 108, 109, 110, 111, 112],\n",
       "       [113, 114, 115, 116, 117, 118],\n",
       "       [119, 120, 121, 122, 123, 124]])"
      ]
     },
     "execution_count": 71,
     "metadata": {},
     "output_type": "execute_result"
    }
   ],
   "source": [
    "a + 100"
   ]
  },
  {
   "cell_type": "code",
   "execution_count": 88,
   "metadata": {},
   "outputs": [
    {
     "data": {
      "text/plain": [
       "array([0, 1, 2, 3, 4, 5])"
      ]
     },
     "execution_count": 88,
     "metadata": {},
     "output_type": "execute_result"
    }
   ],
   "source": [
    "b = np.arange(6) # 처음 숫자 안 넣으면 자동으로 0부터 됨\n",
    "b"
   ]
  },
  {
   "cell_type": "code",
   "execution_count": 55,
   "metadata": {},
   "outputs": [
    {
     "data": {
      "text/plain": [
       "array([[ 1,  3,  5,  7,  9, 11],\n",
       "       [ 7,  9, 11, 13, 15, 17],\n",
       "       [13, 15, 17, 19, 21, 23],\n",
       "       [19, 21, 23, 25, 27, 29]])"
      ]
     },
     "execution_count": 55,
     "metadata": {},
     "output_type": "execute_result"
    }
   ],
   "source": [
    "a + b #array여서 가능한것!! 모든 행에 더해짐"
   ]
  },
  {
   "cell_type": "code",
   "execution_count": 63,
   "metadata": {
    "scrolled": true
   },
   "outputs": [
    {
     "data": {
      "text/plain": [
       "array([[0],\n",
       "       [1],\n",
       "       [2],\n",
       "       [3]])"
      ]
     },
     "execution_count": 63,
     "metadata": {},
     "output_type": "execute_result"
    }
   ],
   "source": [
    "c = np.arange(4).reshape([4,1]) #[]는 하나마나\n",
    "c"
   ]
  },
  {
   "cell_type": "code",
   "execution_count": 89,
   "metadata": {},
   "outputs": [
    {
     "data": {
      "text/plain": [
       "array([0, 1, 2, 3])"
      ]
     },
     "execution_count": 89,
     "metadata": {},
     "output_type": "execute_result"
    }
   ],
   "source": [
    "c1 = np.arange(4).reshape([4,1]).reshape(4) # 최종= [4] 니까 그냥 [0,1,2,3]이 됨\n",
    "c1"
   ]
  },
  {
   "cell_type": "code",
   "execution_count": 65,
   "metadata": {},
   "outputs": [
    {
     "data": {
      "text/plain": [
       "array([[ 1,  2,  3,  4,  5,  6],\n",
       "       [ 8,  9, 10, 11, 12, 13],\n",
       "       [15, 16, 17, 18, 19, 20],\n",
       "       [22, 23, 24, 25, 26, 27]])"
      ]
     },
     "execution_count": 65,
     "metadata": {},
     "output_type": "execute_result"
    }
   ],
   "source": [
    "a + c #array여서 얘도 더해짐!"
   ]
  }
 ],
 "metadata": {
  "kernelspec": {
   "display_name": "Python 3",
   "language": "python",
   "name": "python3"
  },
  "language_info": {
   "codemirror_mode": {
    "name": "ipython",
    "version": 3
   },
   "file_extension": ".py",
   "mimetype": "text/x-python",
   "name": "python",
   "nbconvert_exporter": "python",
   "pygments_lexer": "ipython3",
   "version": "3.6.5"
  }
 },
 "nbformat": 4,
 "nbformat_minor": 2
}
