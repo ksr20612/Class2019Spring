{
 "cells": [
  {
   "cell_type": "code",
   "execution_count": 5,
   "metadata": {},
   "outputs": [
    {
     "name": "stdout",
     "output_type": "stream",
     "text": [
      "showing info https://raw.githubusercontent.com/nltk/nltk_data/gh-pages/index.xml\n"
     ]
    },
    {
     "data": {
      "text/plain": [
       "True"
      ]
     },
     "execution_count": 5,
     "metadata": {},
     "output_type": "execute_result"
    }
   ],
   "source": [
    "nltk.download()"
   ]
  },
  {
   "cell_type": "code",
   "execution_count": 24,
   "metadata": {},
   "outputs": [],
   "source": [
    "import nltk\n",
    "import re"
   ]
  },
  {
   "cell_type": "markdown",
   "metadata": {},
   "source": [
    "- nltk : 자연어 처리하기\n",
    "- re: regulation 처리\n",
    "- https://blog.naver.com/qbxlvnf11/221434157182 참고할 것"
   ]
  },
  {
   "cell_type": "markdown",
   "metadata": {},
   "source": [
    "# Basic Regular Expression"
   ]
  },
  {
   "cell_type": "code",
   "execution_count": 23,
   "metadata": {},
   "outputs": [
    {
     "data": {
      "text/plain": [
       "' Basic Regular Expression Meta-Characters, Including Wildcards, Ranges and Closures\\n.\\t        Wildcard, matches any character\\n^abc\\t    Matches some pattern abc at the start of a string\\nabc$\\t    Matches some pattern abc at the end of a string\\n[abc]\\t    Matches one of a set of characters\\n[^abc]      Matches anything but a set of characters(^abc와 차이 주의할것)\\n[A-Z0-9]\\tMatches one of a range of characters(a-z or 0-9)\\ned|ing|s\\tMatches one of the specified strings (disjunction)\\n*\\t        Zero or more of previous item, e.g. a*, [a-z]* (also known as Kleene Closure)\\n+\\t        One or more of previous item, e.g. a+, [a-z]+\\n?\\t        Zero or one of the previous item (i.e. optional), e.g. a?, [a-z]?\\n{n}\\t        Exactly n repeats where n is a non-negative integer\\n{n,}\\t    At least n repeats\\n{,n}\\t    No more than n repeats\\n{m,n}\\t    At least m and no more than n repeats\\na(b|c)+\\t    Parentheses that indicate the scope of the operators\\n'"
      ]
     },
     "execution_count": 23,
     "metadata": {},
     "output_type": "execute_result"
    }
   ],
   "source": [
    "\"\"\" Basic Regular Expression Meta-Characters, Including Wildcards, Ranges and Closures\n",
    ".\t        Wildcard, matches any character\n",
    "^abc\t    Matches some pattern abc at the start of a string\n",
    "abc$\t    Matches some pattern abc at the end of a string\n",
    "[abc]\t    Matches one of a set of characters\n",
    "[^abc]      Matches anything but a set of characters(^abc와 차이 주의할것)\n",
    "[A-Z0-9]\tMatches one of a range of characters(a-z or 0-9)\n",
    "ed|ing|s\tMatches one of the specified strings (disjunction)\n",
    "*\t        Zero or more of previous item, e.g. a*, [a-z]* (also known as Kleene Closure)\n",
    "+\t        One or more of previous item, e.g. a+, [a-z]+\n",
    "?\t        Zero or one of the previous item (i.e. optional), e.g. a?, [a-z]?\n",
    "{n}\t        Exactly n repeats where n is a non-negative integer\n",
    "{n,}\t    At least n repeats\n",
    "{,n}\t    No more than n repeats\n",
    "{m,n}\t    At least m and no more than n repeats\n",
    "a(b|c)+\t    Parentheses that indicate the scope of the operators\n",
    "\"\"\""
   ]
  },
  {
   "cell_type": "code",
   "execution_count": 11,
   "metadata": {
    "scrolled": false
   },
   "outputs": [
    {
     "name": "stdout",
     "output_type": "stream",
     "text": [
      "['a', 'aa', 'aal', 'aalii', 'aam', 'aardvark', 'aardwolf', 'aba', 'abac', 'abaca']\n",
      "['abaissed', 'abandoned', 'abased', 'abashed', 'abatised', 'abed', 'aborted', 'abridged', 'abscessed', 'absconded']\n",
      "['abjectly', 'adjuster', 'dejected', 'dejectly', 'injector', 'majestic', 'objectee', 'objector', 'rejecter', 'rejector']\n",
      "['gold', 'golf', 'hold', 'hole']\n",
      "['a', 'aa', 'ah', 'aha', 'h', 'ha', 'hah']\n",
      "['0.0085', '0.05', '0.1', '0.16', '0.2', '0.25', '0.28', '0.3', '0.4', '0.5']\n",
      "['C$', 'US$']\n",
      "['1614', '1637', '1787', '1901', '1903', '1917', '1925', '1929', '1933', '1934']\n",
      "['10-day', '10-lap', '10-year', '100-share', '12-point', '12-year', '14-hour', '15-day', '150-point', '190-point']\n",
      "['black-and-white', 'bread-and-butter', 'father-in-law', 'machine-gun-toting', 'savings-and-loan']\n",
      "['62%-owned', 'Absorbed', 'According', 'Adopting', 'Advanced', 'Advancing', 'Alfred', 'Allied', 'Annualized', 'Anything']\n"
     ]
    }
   ],
   "source": [
    "wordlist = [w for w in nltk.corpus.words.words('en') if w.islower()]\n",
    "print(wordlist[:10])\n",
    "result = [w for w in wordlist if re.search('ed$', w)]\n",
    "print(result[:10])\n",
    "result = [w for w in wordlist if re.search('^..j..t..$', w)]\n",
    "print(result[:10])\n",
    "result = [w for w in wordlist if re.search('^[ghi][mno][jlk][def]$', w)]\n",
    "print(result[:10])\n",
    "result = [w for w in wordlist if re.search('^[ah]+$', w)]\n",
    "print(result[:10])\n",
    "\n",
    "wsj = sorted(set(nltk.corpus.treebank.words()))\n",
    "wordlist = [w for w in wsj if re.search('^[0-9]+\\.[0-9]+$', w)]\n",
    "print(wordlist[:10])\n",
    "wordlist = [w for w in wsj if re.search('^[A-Z]+\\$$', w)]\n",
    "print(wordlist[:10])\n",
    "wordlist = [w for w in wsj if re.search('^[0-9]{4}$', w)]\n",
    "print(wordlist[:10])\n",
    "wordlist = [w for w in wsj if re.search('^[0-9]+-[a-z]{3,5}$', w)]\n",
    "print(wordlist[:10])\n",
    "wordlist = [w for w in wsj if re.search('^[a-z]{5,}-[a-z]{2,3}-[a-z]{,6}$', w)]\n",
    "print(wordlist[:10])\n",
    "wordlist = [w for w in wsj if re.search('(ed|ing)$', w)]\n",
    "print(wordlist[:10])"
   ]
  },
  {
   "cell_type": "markdown",
   "metadata": {},
   "source": [
    "## Basic regular expression 하나씩 보기"
   ]
  },
  {
   "cell_type": "markdown",
   "metadata": {},
   "source": [
    "### 1. 단순히 모든 단어 꺼내오기"
   ]
  },
  {
   "cell_type": "code",
   "execution_count": 6,
   "metadata": {
    "scrolled": false
   },
   "outputs": [
    {
     "name": "stdout",
     "output_type": "stream",
     "text": [
      "['a', 'aa', 'aal', 'aalii', 'aam', 'aardvark', 'aardwolf', 'aba', 'abac', 'abaca', 'abacate', 'abacay', 'abacinate', 'abacination', 'abaciscus', 'abacist', 'aback', 'abactinal', 'abactinally', 'abaction', 'abactor', 'abaculus', 'abacus', 'abaff', 'abaft', 'abaisance', 'abaiser', 'abaissed', 'abalienate', 'abalienation', 'abalone', 'abampere', 'abandon', 'abandonable', 'abandoned', 'abandonedly', 'abandonee', 'abandoner', 'abandonment', 'abaptiston', 'abarthrosis', 'abarticular', 'abarticulation', 'abas', 'abase', 'abased', 'abasedly', 'abasedness', 'abasement', 'abaser']\n"
     ]
    }
   ],
   "source": [
    "wordlist = [w for w in nltk.corpus.words.words('en') if w.islower()]\n",
    "print(wordlist[:50])\n",
    "# nltk.corpus.words.words('en')에서 w의 개수만큼 루프를 돌려 w를 가져오는데, w가 소문자인 경우만."
   ]
  },
  {
   "cell_type": "code",
   "execution_count": 8,
   "metadata": {},
   "outputs": [
    {
     "data": {
      "text/plain": [
       "list"
      ]
     },
     "execution_count": 8,
     "metadata": {},
     "output_type": "execute_result"
    }
   ],
   "source": [
    "type(wordlist)"
   ]
  },
  {
   "cell_type": "markdown",
   "metadata": {},
   "source": [
    "### .islower() -> 소문자"
   ]
  },
  {
   "cell_type": "markdown",
   "metadata": {},
   "source": [
    "#### list compression(중요)\n",
    "- list 안에 for loop가 직접 들어감으로써 연산을 덜 복잡한 형태로 보이게 함\n",
    "- 아래 수식을 간추려서 표현한 것임\n",
    "- 바르게 해석할 것."
   ]
  },
  {
   "cell_type": "code",
   "execution_count": null,
   "metadata": {},
   "outputs": [],
   "source": [
    "a=[]\n",
    "for w in nltk.corpus.words.words('en'):\n",
    "    if w.islower():\n",
    "        a.append(w)\n",
    "# a는 어떤 list인데, 그 list의 원소인 w는 corpus 안의 모든 w이다. 이때 만약 w가 소문자라면, list a에 w를 쌓아라."
   ]
  },
  {
   "cell_type": "markdown",
   "metadata": {},
   "source": [
    "### 2. ^, $"
   ]
  },
  {
   "cell_type": "markdown",
   "metadata": {},
   "source": [
    "시작: ^, 끝: $"
   ]
  },
  {
   "cell_type": "markdown",
   "metadata": {},
   "source": [
    "#### .search(a,b)\n",
    "- a라는 문자열을 b에서 찾아라(b는 string(type)임)\n",
    "- 문자열에서 문자열을 찾는 식이므로 for loop를 돌려서 찾아야 함 -> for loop 아니면? list에서 문자열 찾기"
   ]
  },
  {
   "cell_type": "code",
   "execution_count": 25,
   "metadata": {},
   "outputs": [
    {
     "data": {
      "text/plain": [
       "<_sre.SRE_Match object; span=(0, 2), match='ab'>"
      ]
     },
     "execution_count": 25,
     "metadata": {},
     "output_type": "execute_result"
    }
   ],
   "source": [
    "re.search('ab','abcdabcbab')"
   ]
  },
  {
   "cell_type": "code",
   "execution_count": 11,
   "metadata": {},
   "outputs": [
    {
     "name": "stdout",
     "output_type": "stream",
     "text": [
      "['havage', 'have', 'haveable', 'haveage', 'havel', 'haveless', 'havelock']\n"
     ]
    }
   ],
   "source": [
    "result = [w for w in wordlist if re.search('^hav', w)]\n",
    "print(result[:7])\n",
    "#wordlist에서 w만큼 루프를 돌리는데, w에서 hav로 시작하는 문자열만을 가져와라\n",
    "#hav로 시작하는(^) 단어들을 가져오시오"
   ]
  },
  {
   "cell_type": "markdown",
   "metadata": {},
   "source": [
    "re -> string에 적용. list에 적용되는 거 아님"
   ]
  },
  {
   "cell_type": "code",
   "execution_count": 10,
   "metadata": {
    "scrolled": false
   },
   "outputs": [
    {
     "name": "stdout",
     "output_type": "stream",
     "text": [
      "['abaissed', 'abandoned', 'abased', 'abashed', 'abatised', 'abed', 'aborted', 'abridged', 'abscessed', 'absconded']\n"
     ]
    }
   ],
   "source": [
    "result = [w for w in wordlist if re.search('ed$', w)]\n",
    "print(result[:10])\n",
    "# ed로 끝나는($) 단어들을 가져오시오\n",
    "# wordlist에 있는 w 만큼 for loop가 돌아가는데, w중 'ed'로 끝날때만 통과해 result의 원소가 된다"
   ]
  },
  {
   "cell_type": "code",
   "execution_count": 11,
   "metadata": {},
   "outputs": [
    {
     "name": "stdout",
     "output_type": "stream",
     "text": [
      "['abjectly', 'adjuster', 'dejected', 'dejectly', 'injector', 'majestic', 'objectee', 'objector', 'rejecter', 'rejector']\n"
     ]
    }
   ],
   "source": [
    "result = [w for w in wordlist if re.search('^..j..t..$', w)]\n",
    "print(result[:10])\n",
    "# 세번째 글자가 j, 여섯번째 글자가 t인 8글자 단어들을 가져오시오"
   ]
  },
  {
   "cell_type": "markdown",
   "metadata": {},
   "source": [
    "### 3. [ ]"
   ]
  },
  {
   "cell_type": "markdown",
   "metadata": {},
   "source": [
    "bracket 안의 문자들 중 하나만을 임의로 선정함"
   ]
  },
  {
   "cell_type": "code",
   "execution_count": 12,
   "metadata": {
    "scrolled": true
   },
   "outputs": [
    {
     "name": "stdout",
     "output_type": "stream",
     "text": [
      "['gold', 'golf', 'hold', 'hole']\n"
     ]
    }
   ],
   "source": [
    "result = [w for w in wordlist if re.search('^[ghi][mno][jlk][def]$', w)]\n",
    "print(result[:10])"
   ]
  },
  {
   "cell_type": "markdown",
   "metadata": {},
   "source": [
    "### 4. +"
   ]
  },
  {
   "cell_type": "markdown",
   "metadata": {},
   "source": [
    "one or more"
   ]
  },
  {
   "cell_type": "code",
   "execution_count": 28,
   "metadata": {
    "scrolled": true
   },
   "outputs": [
    {
     "name": "stdout",
     "output_type": "stream",
     "text": [
      "['a', 'aa', 'ah', 'aha', 'h', 'ha', 'hah']\n"
     ]
    }
   ],
   "source": [
    "result = [w for w in wordlist if re.search('^[ah]+$', w)]\n",
    "print(result[:10])\n",
    "#a 혹은 h로 시작하는 단어. 단, 하나 이상의 a 혹은 h가 붙어서 끝나도 됨"
   ]
  },
  {
   "cell_type": "code",
   "execution_count": 26,
   "metadata": {},
   "outputs": [
    {
     "ename": "TypeError",
     "evalue": "'set' object is not callable",
     "output_type": "error",
     "traceback": [
      "\u001b[1;31m---------------------------------------------------------------------------\u001b[0m",
      "\u001b[1;31mTypeError\u001b[0m                                 Traceback (most recent call last)",
      "\u001b[1;32m<ipython-input-26-50da4c90d010>\u001b[0m in \u001b[0;36m<module>\u001b[1;34m()\u001b[0m\n\u001b[1;32m----> 1\u001b[1;33m \u001b[0mwsj\u001b[0m \u001b[1;33m=\u001b[0m \u001b[0msorted\u001b[0m\u001b[1;33m(\u001b[0m\u001b[0mset\u001b[0m\u001b[1;33m(\u001b[0m\u001b[0mnltk\u001b[0m\u001b[1;33m.\u001b[0m\u001b[0mcorpus\u001b[0m\u001b[1;33m.\u001b[0m\u001b[0mtreebank\u001b[0m\u001b[1;33m.\u001b[0m\u001b[0mwords\u001b[0m\u001b[1;33m(\u001b[0m\u001b[1;33m)\u001b[0m\u001b[1;33m)\u001b[0m\u001b[1;33m)\u001b[0m\u001b[1;33m\u001b[0m\u001b[0m\n\u001b[0m\u001b[0;32m      2\u001b[0m \u001b[0mwsj\u001b[0m\u001b[1;33m\u001b[0m\u001b[0m\n",
      "\u001b[1;31mTypeError\u001b[0m: 'set' object is not callable"
     ]
    }
   ],
   "source": [
    "wsj = sorted(set(nltk.corpus.treebank.words()))\n",
    "wsj"
   ]
  },
  {
   "cell_type": "markdown",
   "metadata": {},
   "source": [
    "### set()\n",
    " - string에서 중복되는 값 없애고 list의 형태로 정렬\n",
    " - https://blog.naver.com/sw4r/221122421389 참고"
   ]
  },
  {
   "cell_type": "code",
   "execution_count": 27,
   "metadata": {},
   "outputs": [
    {
     "ename": "TypeError",
     "evalue": "'set' object is not callable",
     "output_type": "error",
     "traceback": [
      "\u001b[1;31m---------------------------------------------------------------------------\u001b[0m",
      "\u001b[1;31mTypeError\u001b[0m                                 Traceback (most recent call last)",
      "\u001b[1;32m<ipython-input-27-b5096d9625c9>\u001b[0m in \u001b[0;36m<module>\u001b[1;34m()\u001b[0m\n\u001b[1;32m----> 1\u001b[1;33m \u001b[0mset\u001b[0m\u001b[1;33m(\u001b[0m\u001b[1;34m'abcdefghi'\u001b[0m\u001b[1;33m)\u001b[0m\u001b[1;33m\u001b[0m\u001b[0m\n\u001b[0m",
      "\u001b[1;31mTypeError\u001b[0m: 'set' object is not callable"
     ]
    }
   ],
   "source": [
    "set('abcdefghi')"
   ]
  },
  {
   "cell_type": "markdown",
   "metadata": {},
   "source": [
    "### sorted()\n",
    " - list를 정렬해주는 함수. 순서화시킴(list()와 반대)"
   ]
  },
  {
   "cell_type": "code",
   "execution_count": 19,
   "metadata": {
    "scrolled": true
   },
   "outputs": [
    {
     "data": {
      "text/plain": [
       "list"
      ]
     },
     "execution_count": 19,
     "metadata": {},
     "output_type": "execute_result"
    }
   ],
   "source": [
    "type(wsj)"
   ]
  },
  {
   "cell_type": "markdown",
   "metadata": {},
   "source": [
    "리스트이기 때문에 for loop 적용하여 string 하나씩을 확인해야함(위와 같은 방식)"
   ]
  },
  {
   "cell_type": "code",
   "execution_count": 12,
   "metadata": {
    "scrolled": false
   },
   "outputs": [
    {
     "name": "stdout",
     "output_type": "stream",
     "text": [
      "['0.0085', '0.05', '0.1', '0.16', '0.2', '0.25', '0.28', '0.3', '0.4', '0.5']\n"
     ]
    }
   ],
   "source": [
    "wordlist = [w for w in wsj if re.search('^[0-9]+\\.[0-9]+$', w)]\n",
    "print(wordlist[:10])"
   ]
  },
  {
   "cell_type": "markdown",
   "metadata": {},
   "source": [
    "### a-b\n",
    "- a에서 b까지의 숫자"
   ]
  },
  {
   "cell_type": "markdown",
   "metadata": {},
   "source": [
    "'\\'를 넣음으로써 .이 임의의 글자가 아니라 소수점으로 인식됨"
   ]
  },
  {
   "cell_type": "code",
   "execution_count": 24,
   "metadata": {
    "scrolled": false
   },
   "outputs": [
    {
     "name": "stdout",
     "output_type": "stream",
     "text": [
      "['C$', 'US$']\n"
     ]
    }
   ],
   "source": [
    "wordlist = [w for w in wsj if re.search('^[A-Z]+\\$$', w)]\n",
    "print(wordlist[:10])"
   ]
  },
  {
   "cell_type": "markdown",
   "metadata": {},
   "source": [
    "'^[a-zA-Z]+\\$$', w\n",
    "-> 소문자나 대문자나 모두 가능"
   ]
  },
  {
   "cell_type": "markdown",
   "metadata": {},
   "source": [
    "모든 숫자의 표현: [0-9]+ / 모든 문자의 표현: [A-Z]+"
   ]
  },
  {
   "cell_type": "code",
   "execution_count": 14,
   "metadata": {
    "scrolled": true
   },
   "outputs": [
    {
     "name": "stdout",
     "output_type": "stream",
     "text": [
      "['1614', '1637', '1787', '1901', '1903', '1917', '1925', '1929', '1933', '1934']\n"
     ]
    }
   ],
   "source": [
    "wordlist = [w for w in wsj if re.search('^[0-9]{4}$', w)]\n",
    "print(wordlist[:10])"
   ]
  },
  {
   "cell_type": "markdown",
   "metadata": {},
   "source": [
    "{a} -> a번 반복한다 {a,b} = a~b번"
   ]
  },
  {
   "cell_type": "code",
   "execution_count": 27,
   "metadata": {},
   "outputs": [
    {
     "name": "stdout",
     "output_type": "stream",
     "text": [
      "['10-day', '10-lap', '10-year', '100-share', '12-point', '12-year', '14-hour', '15-day', '150-point', '190-point']\n"
     ]
    }
   ],
   "source": [
    "wordlist = [w for w in wsj if re.search('^[0-9]+-[a-z]{3,5}$', w)] #\\-해도 값은 똑같이 나옴\n",
    "print(wordlist[:10])"
   ]
  },
  {
   "cell_type": "code",
   "execution_count": 16,
   "metadata": {
    "scrolled": true
   },
   "outputs": [
    {
     "name": "stdout",
     "output_type": "stream",
     "text": [
      "['black-and-white', 'bread-and-butter', 'father-in-law', 'machine-gun-toting', 'savings-and-loan']\n"
     ]
    }
   ],
   "source": [
    "wordlist = [w for w in wsj if re.search('^[a-z]{5,}-[a-z]{2,3}-[a-z]{,6}$', w)]\n",
    "print(wordlist[:10])"
   ]
  },
  {
   "cell_type": "markdown",
   "metadata": {},
   "source": [
    "{5,} 5개 이상/{,6} 6개 이하"
   ]
  },
  {
   "cell_type": "code",
   "execution_count": 17,
   "metadata": {},
   "outputs": [
    {
     "name": "stdout",
     "output_type": "stream",
     "text": [
      "['62%-owned', 'Absorbed', 'According', 'Adopting', 'Advanced', 'Advancing', 'Alfred', 'Allied', 'Annualized', 'Anything']\n"
     ]
    }
   ],
   "source": [
    "wordlist = [w for w in wsj if re.search('(ed|ing)$', w)]\n",
    "print(wordlist[:10])"
   ]
  },
  {
   "cell_type": "markdown",
   "metadata": {},
   "source": [
    "| = or"
   ]
  },
  {
   "cell_type": "code",
   "execution_count": 30,
   "metadata": {
    "scrolled": true
   },
   "outputs": [
    {
     "name": "stdout",
     "output_type": "stream",
     "text": [
      "['u', 'e', 'a', 'i', 'a', 'i', 'i', 'i', 'e', 'i', 'a', 'i', 'o', 'i', 'o', 'u']\n",
      "['rc', 'fr', 'st', 'xp', 'ci']\n",
      "['supercalifragilisticexpialidocious']\n",
      "['sup', 'rcal', 'frag', 'lis', 'tic', 'xpial', 'doc']\n"
     ]
    }
   ],
   "source": [
    "word = 'supercalifragilisticexpialidocious'\n",
    "result = re.findall(r'[aeiou]', word)\n",
    "print(result)\n",
    "#word에서 찾을 수 있는 a,e,i,o,u 중 하나를 모두 가져와라\n",
    "result = re.findall('[aeiou](..)[aeiou]', word)\n",
    "print(result)\n",
    "# 모음과 모음 사이에 문자가 두개 껴있는 경우를 찾아와라\n",
    "result = re.findall('[^aeiou].+[^aeiou]', word)\n",
    "print(result)\n",
    "# 자음+아무 문자 한 개 이상+자음인 경우를 찾아와라 ------ [^abc] = a,b,c 를 제외한 글자들\n",
    "result = re.findall('[^aeiou].+?[^aeiou]', word)\n",
    "print(result)\n",
    "# ...? 위의 것과 차이가...?"
   ]
  },
  {
   "cell_type": "code",
   "execution_count": 10,
   "metadata": {
    "scrolled": true
   },
   "outputs": [
    {
     "data": {
      "text/plain": [
       "[('io', 549),\n",
       " ('ea', 476),\n",
       " ('ie', 331),\n",
       " ('ou', 329),\n",
       " ('ai', 261),\n",
       " ('ia', 253),\n",
       " ('ee', 217),\n",
       " ('oo', 174),\n",
       " ('ua', 109),\n",
       " ('au', 106)]"
      ]
     },
     "execution_count": 10,
     "metadata": {},
     "output_type": "execute_result"
    }
   ],
   "source": [
    "wsj = sorted(set(nltk.corpus.treebank.words()))\n",
    "fdist = nltk.FreqDist(vs for word in wsj for vs in re.findall(r'[aeiou]{2,}', word))\n",
    "fdist.most_common(10)\n",
    "# wsj에서 word의 개수만큼 loop를 돌려서 vs를 가져오는데, 모음이 두개 이상 반복된 애들의 list에서 vs의 개수만큼 돌려서 가져와라(?)"
   ]
  },
  {
   "cell_type": "code",
   "execution_count": 40,
   "metadata": {},
   "outputs": [
    {
     "data": {
      "text/plain": [
       "['ea',\n",
       " 'oi',\n",
       " 'ea',\n",
       " 'ou',\n",
       " 'oi',\n",
       " 'ea',\n",
       " 'ea',\n",
       " 'oi',\n",
       " 'oi',\n",
       " 'ea',\n",
       " 'io',\n",
       " 'ea',\n",
       " 'ea',\n",
       " 'ea',\n",
       " 'oi',\n",
       " 'ea',\n",
       " 'ea',\n",
       " 'ea',\n",
       " 'ea',\n",
       " 'ea',\n",
       " 'ea',\n",
       " 'ea',\n",
       " 'ee',\n",
       " 'ea',\n",
       " 'ea',\n",
       " 'ea',\n",
       " 'ea',\n",
       " 'ea',\n",
       " 'ea',\n",
       " 'ea',\n",
       " 'ea',\n",
       " 'oi',\n",
       " 'ea',\n",
       " 'ea',\n",
       " 'ou',\n",
       " 'ou',\n",
       " 'ou',\n",
       " 'ie',\n",
       " 'ui',\n",
       " 'io',\n",
       " 'ua',\n",
       " 'io',\n",
       " 'ai',\n",
       " 'ai',\n",
       " 'ai',\n",
       " 'io',\n",
       " 'ie',\n",
       " 'ue',\n",
       " 'ue',\n",
       " 'ia',\n",
       " 'ie',\n",
       " 'ea',\n",
       " 'ai',\n",
       " 'ou',\n",
       " 'ia',\n",
       " 'ei',\n",
       " 'ie',\n",
       " 'ea',\n",
       " 'ea',\n",
       " 'ie',\n",
       " 'ia',\n",
       " 'ia',\n",
       " 'ua',\n",
       " 'ie',\n",
       " 'io',\n",
       " 'ea',\n",
       " 'ia',\n",
       " 'io',\n",
       " 'ui',\n",
       " 'ia',\n",
       " 'ia',\n",
       " 'ea',\n",
       " 'iai',\n",
       " 'ai',\n",
       " 'ia',\n",
       " 'ia',\n",
       " 'ia',\n",
       " 'ia',\n",
       " 'ia',\n",
       " 'io',\n",
       " 'oo',\n",
       " 'io',\n",
       " 'ia',\n",
       " 'ia',\n",
       " 'ia',\n",
       " 'ia',\n",
       " 'ue',\n",
       " 'ea',\n",
       " 'ai',\n",
       " 'ai',\n",
       " 'ue',\n",
       " 'ie',\n",
       " 'au',\n",
       " 'ea',\n",
       " 'ea',\n",
       " 'ea',\n",
       " 'ea',\n",
       " 'eau',\n",
       " 'au',\n",
       " 'ei',\n",
       " 'ei',\n",
       " 'ei',\n",
       " 'ei',\n",
       " 'ei',\n",
       " 'ia',\n",
       " 'ie',\n",
       " 'io',\n",
       " 'ue',\n",
       " 'oa',\n",
       " 'oei',\n",
       " 'oe',\n",
       " 'ia',\n",
       " 'oo',\n",
       " 'oo',\n",
       " 'oo',\n",
       " 'eau',\n",
       " 'ou',\n",
       " 'ou',\n",
       " 'ai',\n",
       " 'ou',\n",
       " 'ai',\n",
       " 'oo',\n",
       " 'ea',\n",
       " 'au',\n",
       " 'ia',\n",
       " 'ea',\n",
       " 'ea',\n",
       " 'ee',\n",
       " 'ia',\n",
       " 'ai',\n",
       " 'oa',\n",
       " 'oo',\n",
       " 'oo',\n",
       " 'oo',\n",
       " 'ei',\n",
       " 'ei',\n",
       " 'ea',\n",
       " 'ui',\n",
       " 'ui',\n",
       " 'eau',\n",
       " 'ie',\n",
       " 'ia',\n",
       " 'ia',\n",
       " 'ai',\n",
       " 'eau',\n",
       " 'ia',\n",
       " 'ea',\n",
       " 'ie',\n",
       " 'ie',\n",
       " 'oo',\n",
       " 'ai',\n",
       " 'ai',\n",
       " 'io',\n",
       " 'ie',\n",
       " 'ie',\n",
       " 'eau',\n",
       " 'ee',\n",
       " 'ee',\n",
       " 'ea',\n",
       " 'io',\n",
       " 'oo',\n",
       " 'ia',\n",
       " 'ie',\n",
       " 'ui',\n",
       " 'io',\n",
       " 'io',\n",
       " 'io',\n",
       " 'ai',\n",
       " 'ai',\n",
       " 'au',\n",
       " 'oa',\n",
       " 'oi',\n",
       " 'ia',\n",
       " 'io',\n",
       " 'io',\n",
       " 'ee',\n",
       " 'ie',\n",
       " 'ea',\n",
       " 'io',\n",
       " 'io',\n",
       " 'ie',\n",
       " 'ou',\n",
       " 'io',\n",
       " 'io',\n",
       " 'ue',\n",
       " 'io',\n",
       " 'io',\n",
       " 'ai',\n",
       " 'ue',\n",
       " 'ui',\n",
       " 'io',\n",
       " 'oo',\n",
       " 'oo',\n",
       " 'io',\n",
       " 'ou',\n",
       " 'ou',\n",
       " 'ou',\n",
       " 'ou',\n",
       " 'ie',\n",
       " 'ou',\n",
       " 'ou',\n",
       " 'ou',\n",
       " 'ou',\n",
       " 'ou',\n",
       " 'ee',\n",
       " 'ui',\n",
       " 'ee',\n",
       " 'ia',\n",
       " 'ai',\n",
       " 'ai',\n",
       " 'ai',\n",
       " 'ie',\n",
       " 'ie',\n",
       " 'oi',\n",
       " 'ie',\n",
       " 'io',\n",
       " 'ea',\n",
       " 'ea',\n",
       " 'ea',\n",
       " 'ee',\n",
       " 'au',\n",
       " 'io',\n",
       " 'ai',\n",
       " 'io',\n",
       " 'oi',\n",
       " 'ia',\n",
       " 'ia',\n",
       " 'eo',\n",
       " 'ie',\n",
       " 'ea',\n",
       " 'io',\n",
       " 'oa',\n",
       " 'oe',\n",
       " 'ai',\n",
       " 'io',\n",
       " 'ie',\n",
       " 'ue',\n",
       " 'ou',\n",
       " 'oi',\n",
       " 'ue',\n",
       " 'ee',\n",
       " 'ie',\n",
       " 'ia',\n",
       " 'ie',\n",
       " 'io',\n",
       " 'io',\n",
       " 'ia',\n",
       " 'io',\n",
       " 'ie',\n",
       " 'ou',\n",
       " 'ou',\n",
       " 'ee',\n",
       " 'ea',\n",
       " 'ai',\n",
       " 'ua',\n",
       " 'ui',\n",
       " 'ui',\n",
       " 'ui',\n",
       " 'uu',\n",
       " 'ea',\n",
       " 'ea',\n",
       " 'io',\n",
       " 'ui',\n",
       " 'ie',\n",
       " 'ia',\n",
       " 'ie',\n",
       " 'ie',\n",
       " 'ei',\n",
       " 'ai',\n",
       " 'ai',\n",
       " 'ai',\n",
       " 'ai',\n",
       " 'ai',\n",
       " 'ie',\n",
       " 'au',\n",
       " 'ea',\n",
       " 'ua',\n",
       " 'io',\n",
       " 'ee',\n",
       " 'ee',\n",
       " 'ie',\n",
       " 'ee',\n",
       " 'ia',\n",
       " 'ia',\n",
       " 'io',\n",
       " 'oo',\n",
       " 'oo',\n",
       " 'oo',\n",
       " 'ei',\n",
       " 'ei',\n",
       " 'ou',\n",
       " 'io',\n",
       " 'ou',\n",
       " 'ou',\n",
       " 'ai',\n",
       " 'ou',\n",
       " 'ou',\n",
       " 'ee',\n",
       " 'ou',\n",
       " 'ie',\n",
       " 'ee',\n",
       " 'ee',\n",
       " 'eu',\n",
       " 'eu',\n",
       " 'ie',\n",
       " 'ie',\n",
       " 'ue',\n",
       " 'ai',\n",
       " 'ie',\n",
       " 'eo',\n",
       " 'eo',\n",
       " 'eo',\n",
       " 'ia',\n",
       " 'eo',\n",
       " 'ia',\n",
       " 'ia',\n",
       " 'ia',\n",
       " 'ie',\n",
       " 'ie',\n",
       " 'au',\n",
       " 'iu',\n",
       " 'ia',\n",
       " 'au',\n",
       " 'oo',\n",
       " 'oo',\n",
       " 'ie',\n",
       " 'ua',\n",
       " 'ua',\n",
       " 'ai',\n",
       " 'ea',\n",
       " 'ee',\n",
       " 'ee',\n",
       " 'ee',\n",
       " 'ee',\n",
       " 'ee',\n",
       " 'ou',\n",
       " 'ou',\n",
       " 'ou',\n",
       " 'ua',\n",
       " 'ee',\n",
       " 'ua',\n",
       " 'ee',\n",
       " 'ua',\n",
       " 'ue',\n",
       " 'ui',\n",
       " 'ui',\n",
       " 'ui',\n",
       " 'ea',\n",
       " 'oo',\n",
       " 'ou',\n",
       " 'ou',\n",
       " 'au',\n",
       " 'io',\n",
       " 'aii',\n",
       " 'aiia',\n",
       " 'ea',\n",
       " 'ea',\n",
       " 'ea',\n",
       " 'ea',\n",
       " 'ea',\n",
       " 'ei',\n",
       " 'ei',\n",
       " 'ei',\n",
       " 'ei',\n",
       " 'oo',\n",
       " 'ie',\n",
       " 'oo',\n",
       " 'ou',\n",
       " 'ou',\n",
       " 'ou',\n",
       " 'ou',\n",
       " 'ou',\n",
       " 'ou',\n",
       " 'ea',\n",
       " 'oi',\n",
       " 'ee',\n",
       " 'ia',\n",
       " 'ia',\n",
       " 'ia',\n",
       " 'ua',\n",
       " 'ua',\n",
       " 'ia',\n",
       " 'ia',\n",
       " 'ie',\n",
       " 'io',\n",
       " 'ia',\n",
       " 'ou',\n",
       " 'ea',\n",
       " 'io',\n",
       " 'io',\n",
       " 'eu',\n",
       " 'ia',\n",
       " 'io',\n",
       " 'ie',\n",
       " 'ia',\n",
       " 'ie',\n",
       " 'ae',\n",
       " 'ue',\n",
       " 'ia',\n",
       " 'ua',\n",
       " 'ai',\n",
       " 'aa',\n",
       " 'aa',\n",
       " 'ai',\n",
       " 'ua',\n",
       " 'oa',\n",
       " 'oe',\n",
       " 'oe',\n",
       " 'ou',\n",
       " 'ou',\n",
       " 'ia',\n",
       " 'ia',\n",
       " 'ie',\n",
       " 'ia',\n",
       " 'oo',\n",
       " 'ee',\n",
       " 'ei',\n",
       " 'ea',\n",
       " 'ea',\n",
       " 'ee',\n",
       " 'ei',\n",
       " 'ei',\n",
       " 'ee',\n",
       " 'au',\n",
       " 'ei',\n",
       " 'oi',\n",
       " 'oi',\n",
       " 'ea',\n",
       " 'ua',\n",
       " 'ie',\n",
       " 'oui',\n",
       " 'ieu',\n",
       " 'ou',\n",
       " 'au',\n",
       " 'au',\n",
       " 'au',\n",
       " 'ea',\n",
       " 'ea',\n",
       " 'ea',\n",
       " 'ee',\n",
       " 'ou',\n",
       " 'io',\n",
       " 'ei',\n",
       " 'ei',\n",
       " 'ei',\n",
       " 'eo',\n",
       " 'eo',\n",
       " 'io',\n",
       " 'ie',\n",
       " 'ou',\n",
       " 'oa',\n",
       " 'oe',\n",
       " 'oe',\n",
       " 'oo',\n",
       " 'ai',\n",
       " 'oui',\n",
       " 'oui',\n",
       " 'ia',\n",
       " 'oui',\n",
       " 'ia',\n",
       " 'oui',\n",
       " 'ie',\n",
       " 'ae',\n",
       " 'ai',\n",
       " 'ia',\n",
       " 'ia',\n",
       " 'ie',\n",
       " 'ie',\n",
       " 'oui',\n",
       " 'ie',\n",
       " 'io',\n",
       " 'io',\n",
       " 'io',\n",
       " 'ia',\n",
       " 'au',\n",
       " 'ui',\n",
       " 'eo',\n",
       " 'ea',\n",
       " 'ea',\n",
       " 'ia',\n",
       " 'ee',\n",
       " 'ei',\n",
       " 'ia',\n",
       " 'ia',\n",
       " 'ia',\n",
       " 'ae',\n",
       " 'ae',\n",
       " 'io',\n",
       " 'ue',\n",
       " 'ai',\n",
       " 'au',\n",
       " 'ee',\n",
       " 'ea',\n",
       " 'ea',\n",
       " 'io',\n",
       " 'ou',\n",
       " 'ui',\n",
       " 'io',\n",
       " 'oi',\n",
       " 'ou',\n",
       " 'ie',\n",
       " 'oo',\n",
       " 'oo',\n",
       " 'oo',\n",
       " 'eo',\n",
       " 'ou',\n",
       " 'ua',\n",
       " 'oi',\n",
       " 'ia',\n",
       " 'ia',\n",
       " 'ia',\n",
       " 'io',\n",
       " 'io',\n",
       " 'io',\n",
       " 'io',\n",
       " 'ea',\n",
       " 'ea',\n",
       " 'ea',\n",
       " 'ee',\n",
       " 'ia',\n",
       " 'ei',\n",
       " 'ei',\n",
       " 'oo',\n",
       " 'eu',\n",
       " 'ou',\n",
       " 'ee',\n",
       " 'ua',\n",
       " 'ie',\n",
       " 'ei',\n",
       " 'ai',\n",
       " 'ie',\n",
       " 'ea',\n",
       " 'ia',\n",
       " 'ou',\n",
       " 'ie',\n",
       " 'ou',\n",
       " 'ei',\n",
       " 'io',\n",
       " 'io',\n",
       " 'ea',\n",
       " 'ia',\n",
       " 'io',\n",
       " 'io',\n",
       " 'ou',\n",
       " 'ia',\n",
       " 'io',\n",
       " 'io',\n",
       " 'io',\n",
       " 'io',\n",
       " 'io',\n",
       " 'ea',\n",
       " 'ea',\n",
       " 'ea',\n",
       " 'ai',\n",
       " 'ia',\n",
       " 'ua',\n",
       " 'ou',\n",
       " 'ia',\n",
       " 'ie',\n",
       " 'ia',\n",
       " 'au',\n",
       " 'au',\n",
       " 'ou',\n",
       " 'ea',\n",
       " 'ia',\n",
       " 'ie',\n",
       " 'eo',\n",
       " 'eo',\n",
       " 'ia',\n",
       " 'oi',\n",
       " 'io',\n",
       " 'ua',\n",
       " 'eu',\n",
       " 'ao',\n",
       " 'ia',\n",
       " 'ia',\n",
       " 'oe',\n",
       " 'ie',\n",
       " 'ie',\n",
       " 'io',\n",
       " 'ai',\n",
       " 'io',\n",
       " 'ie',\n",
       " 'oo',\n",
       " 'oo',\n",
       " 'io',\n",
       " 'ua',\n",
       " 'iou',\n",
       " 'ie',\n",
       " 'ia',\n",
       " 'iou',\n",
       " 'io',\n",
       " 'ee',\n",
       " 'io',\n",
       " 'io',\n",
       " 'ua',\n",
       " 'io',\n",
       " 'ia',\n",
       " 'ia',\n",
       " 'io',\n",
       " 'io',\n",
       " 'ue',\n",
       " 'ua',\n",
       " 'uee',\n",
       " 'ia',\n",
       " 'io',\n",
       " 'ae',\n",
       " 'ai',\n",
       " 'ai',\n",
       " 'oa',\n",
       " 'ei',\n",
       " 'ie',\n",
       " 'au',\n",
       " 'oo',\n",
       " 'ea',\n",
       " 'ea',\n",
       " 'ea',\n",
       " 'ea',\n",
       " 'ea',\n",
       " 'oo',\n",
       " 'ee',\n",
       " 'io',\n",
       " 'ia',\n",
       " 'ai',\n",
       " 'ee',\n",
       " 'ea',\n",
       " 'ea',\n",
       " 'ou',\n",
       " 'au',\n",
       " 'ai',\n",
       " 'eu',\n",
       " 'eu',\n",
       " 'eu',\n",
       " 'ue',\n",
       " 'ie',\n",
       " 'io',\n",
       " 'ou',\n",
       " 'ie',\n",
       " 'ie',\n",
       " 'ie',\n",
       " 'ie',\n",
       " 'ie',\n",
       " 'oe',\n",
       " 'ee',\n",
       " 'oo',\n",
       " 'oo',\n",
       " 'oo',\n",
       " 'ie',\n",
       " 'ou',\n",
       " 'ou',\n",
       " 'ie',\n",
       " 'ia',\n",
       " 'ai',\n",
       " 'ai',\n",
       " 'ue',\n",
       " 'au',\n",
       " 'au',\n",
       " 'au',\n",
       " 'au',\n",
       " 'ia',\n",
       " 'ae',\n",
       " 'oo',\n",
       " 'ei',\n",
       " 'ie',\n",
       " 'ie',\n",
       " 'ia',\n",
       " 'ea',\n",
       " 'ea',\n",
       " 'ea',\n",
       " 'ea',\n",
       " 'ea',\n",
       " 'ea',\n",
       " 'ia',\n",
       " 'ia',\n",
       " 'io',\n",
       " 'ie',\n",
       " 'ee',\n",
       " 'ou',\n",
       " 'io',\n",
       " 'io',\n",
       " 'eou',\n",
       " 'ia',\n",
       " 'ie',\n",
       " 'io',\n",
       " 'ou',\n",
       " 'ea',\n",
       " 'ee',\n",
       " 'ie',\n",
       " 'oo',\n",
       " 'ai',\n",
       " 'ia',\n",
       " 'ie',\n",
       " 'ie',\n",
       " 'eo',\n",
       " 'ie',\n",
       " 'oa',\n",
       " 'ia',\n",
       " 'ie',\n",
       " 'aia',\n",
       " 'io',\n",
       " 'oo',\n",
       " 'ou',\n",
       " 'ou',\n",
       " 'ou',\n",
       " 'ou',\n",
       " 'ou',\n",
       " 'ou',\n",
       " 'ea',\n",
       " 'ou',\n",
       " 'ie',\n",
       " 'ie',\n",
       " 'ai',\n",
       " 'io',\n",
       " 'ee',\n",
       " 'ie',\n",
       " 'ie',\n",
       " 'oo',\n",
       " 'ea',\n",
       " 'ie',\n",
       " 'uie',\n",
       " 'iu',\n",
       " 'iu',\n",
       " 'ea',\n",
       " 'ee',\n",
       " 'ee',\n",
       " 'ei',\n",
       " 'ie',\n",
       " 'ie',\n",
       " 'ie',\n",
       " 'ai',\n",
       " 'ee',\n",
       " 'ua',\n",
       " 'ui',\n",
       " 'ai',\n",
       " 'ea',\n",
       " 'ai',\n",
       " 'ai',\n",
       " 'ei',\n",
       " 'ai',\n",
       " 'ai',\n",
       " 'ai',\n",
       " 'eo',\n",
       " 'au',\n",
       " 'ea',\n",
       " 'ea',\n",
       " 'ei',\n",
       " 'io',\n",
       " 'io',\n",
       " 'ai',\n",
       " 'ai',\n",
       " 'ei',\n",
       " 'eo',\n",
       " 'ou',\n",
       " 'ou',\n",
       " 'ee',\n",
       " 'oo',\n",
       " 'io',\n",
       " 'oo',\n",
       " 'ou',\n",
       " 'ou',\n",
       " 'io',\n",
       " 'io',\n",
       " 'ai',\n",
       " 'ai',\n",
       " 'io',\n",
       " 'ea',\n",
       " 'ie',\n",
       " 'ee',\n",
       " 'au',\n",
       " 'ou',\n",
       " 'eau',\n",
       " 'ue',\n",
       " 'ou',\n",
       " 'ai',\n",
       " 'oo',\n",
       " 'oo',\n",
       " 'io',\n",
       " 'ie',\n",
       " 'ie',\n",
       " 'ue',\n",
       " 'ia',\n",
       " 'eo',\n",
       " 'ia',\n",
       " 'ia',\n",
       " 'ua',\n",
       " 'oi',\n",
       " 'ae',\n",
       " 'ae',\n",
       " 'ui',\n",
       " 'ou',\n",
       " 'oo',\n",
       " 'ea',\n",
       " 'ee',\n",
       " 'ei',\n",
       " 'ei',\n",
       " 'ie',\n",
       " 'ei',\n",
       " 'ou',\n",
       " 'ee',\n",
       " 'ea',\n",
       " 'ia',\n",
       " 'ia',\n",
       " 'ia',\n",
       " 'ou',\n",
       " 'oo',\n",
       " 'oo',\n",
       " 'oo',\n",
       " 'oo',\n",
       " 'oo',\n",
       " 'ee',\n",
       " 'ia',\n",
       " 'iao',\n",
       " 'ai',\n",
       " 'ea',\n",
       " 'ea',\n",
       " 'ie',\n",
       " 'ou',\n",
       " 'ou',\n",
       " 'ou',\n",
       " 'ou',\n",
       " 'ou',\n",
       " 'ue',\n",
       " 'ea',\n",
       " 'oa',\n",
       " 'io',\n",
       " 'io',\n",
       " 'io',\n",
       " 'io',\n",
       " 'ou',\n",
       " 'ou',\n",
       " 'oa',\n",
       " 'io',\n",
       " 'ie',\n",
       " 'io',\n",
       " 'ou',\n",
       " 'ou',\n",
       " 'ou',\n",
       " 'ou',\n",
       " 'ou',\n",
       " 'ou',\n",
       " 'ou',\n",
       " 'ue',\n",
       " 'ue',\n",
       " 'ie',\n",
       " 'ie',\n",
       " 'ie',\n",
       " 'ie',\n",
       " 'ie',\n",
       " 'ai',\n",
       " 'ui',\n",
       " 'ui',\n",
       " 'ui',\n",
       " 'ui',\n",
       " 'ui',\n",
       " 'ui',\n",
       " 'ui',\n",
       " 'io',\n",
       " 'ui',\n",
       " 'io',\n",
       " 'ui',\n",
       " 'io',\n",
       " 'io',\n",
       " 'io',\n",
       " 'ie',\n",
       " 'ua',\n",
       " 'ua',\n",
       " 'io',\n",
       " 'io',\n",
       " 'io',\n",
       " 'io',\n",
       " 'ua',\n",
       " 'ua',\n",
       " 'io',\n",
       " 'io',\n",
       " 'ia',\n",
       " 'ae',\n",
       " 'ae',\n",
       " 'ai',\n",
       " 'ai',\n",
       " 'ia',\n",
       " 'ia',\n",
       " 'ai',\n",
       " 'oo',\n",
       " 'ai',\n",
       " 'ai',\n",
       " 'ie',\n",
       " 'ee',\n",
       " 'ee',\n",
       " 'ee',\n",
       " 'eei',\n",
       " 'ee',\n",
       " 'ee',\n",
       " 'ee',\n",
       " 'ea',\n",
       " 'ai',\n",
       " 'ai',\n",
       " 'ai',\n",
       " 'ai',\n",
       " 'ai',\n",
       " 'ai',\n",
       " 'ai',\n",
       " 'ai',\n",
       " 'ai',\n",
       " 'ai',\n",
       " 'ai',\n",
       " 'ai',\n",
       " 'ai',\n",
       " 'ai',\n",
       " 'ai',\n",
       " 'ai',\n",
       " 'ai',\n",
       " 'ai',\n",
       " 'ai',\n",
       " 'ie',\n",
       " 'io',\n",
       " 'ia',\n",
       " 'ie',\n",
       " 'io',\n",
       " 'ea',\n",
       " 'ou',\n",
       " 'ui',\n",
       " 'io',\n",
       " 'iou',\n",
       " 'io',\n",
       " 'ou',\n",
       " 'ou',\n",
       " 'ou',\n",
       " 'ie',\n",
       " 'ou',\n",
       " 'ou',\n",
       " 'ou',\n",
       " 'ou',\n",
       " 'ua',\n",
       " 'ua',\n",
       " 'ua',\n",
       " 'io',\n",
       " 'io',\n",
       " 'ia',\n",
       " 'eo',\n",
       " 'io',\n",
       " 'ie',\n",
       " 'ie',\n",
       " 'iou',\n",
       " 'ie',\n",
       " 'ea',\n",
       " 'ea',\n",
       " 'ea',\n",
       " 'ea',\n",
       " 'ea',\n",
       " 'ea',\n",
       " 'ea',\n",
       " 'ea',\n",
       " 'au',\n",
       " 'ia',\n",
       " 'ia',\n",
       " 'io',\n",
       " 'io',\n",
       " 'ie',\n",
       " 'oi',\n",
       " 'oi',\n",
       " 'oi',\n",
       " 'oi',\n",
       " 'ia',\n",
       " 'io',\n",
       " 'oa',\n",
       " 'oa',\n",
       " 'oa',\n",
       " 'ia',\n",
       " 'ia',\n",
       " 'ia',\n",
       " 'io',\n",
       " 'ia',\n",
       " 'io',\n",
       " 'ia',\n",
       " 'ea',\n",
       " 'ea',\n",
       " 'ue',\n",
       " 'ue',\n",
       " 'ue',\n",
       " 'ui',\n",
       " 'ou',\n",
       " 'io',\n",
       " 'au',\n",
       " 'au',\n",
       " 'io',\n",
       " 'io',\n",
       " 'ua',\n",
       " 'io',\n",
       " 'ia',\n",
       " 'ia',\n",
       " 'ia',\n",
       " 'ia',\n",
       " 'io',\n",
       " 'io',\n",
       " 'io',\n",
       " 'ie',\n",
       " 'io',\n",
       " 'au',\n",
       " 'io',\n",
       " 'au',\n",
       " ...]"
      ]
     },
     "execution_count": 40,
     "metadata": {},
     "output_type": "execute_result"
    }
   ],
   "source": [
    "[vs for word in wsj for vs in re.findall(r'[aeiou]{2,}', word)]"
   ]
  },
  {
   "cell_type": "code",
   "execution_count": 34,
   "metadata": {},
   "outputs": [
    {
     "data": {
      "text/plain": [
       "['ab', 'ab', 'ab', 'ab']"
      ]
     },
     "execution_count": 34,
     "metadata": {},
     "output_type": "execute_result"
    }
   ],
   "source": [
    "re.findall('ab','ababasbawebabsbdab')"
   ]
  },
  {
   "cell_type": "code",
   "execution_count": 3,
   "metadata": {},
   "outputs": [
    {
     "name": "stdout",
     "output_type": "stream",
     "text": [
      "    a   e   i   o   u \n",
      "k 418 148  94 420 173 \n",
      "p  83  31 105  34  51 \n",
      "r 187  63  84  89  79 \n",
      "s   0   0 100   2   1 \n",
      "t  47   8   0 148  37 \n",
      "v  93  27 105  48  49 \n"
     ]
    }
   ],
   "source": [
    "regexp = r'^[AEIOUaeiou]+|[AEIOUaeiou]+$|[^AEIOUaeiou]'\n",
    "def compress(word):\n",
    "    pieces = re.findall(regexp, word)\n",
    "    return ''.join(pieces)\n",
    "\n",
    "english_udhr = nltk.corpus.udhr.words('English-Latin1')\n",
    "print(nltk.tokenwrap(compress(w) for w in english_udhr[:75]))\n"
   ]
  },
  {
   "cell_type": "code",
   "execution_count": 27,
   "metadata": {},
   "outputs": [
    {
     "name": "stdout",
     "output_type": "stream",
     "text": [
      "    a   e   i   o   u \n",
      "k 418 148  94 420 173 \n",
      "p  83  31 105  34  51 \n",
      "r 187  63  84  89  79 \n",
      "s   0   0 100   2   1 \n",
      "t  47   8   0 148  37 \n",
      "v  93  27 105  48  49 \n"
     ]
    }
   ],
   "source": [
    "rotokas_words = nltk.corpus.toolbox.words('rotokas.dic')\n",
    "cvs = [cv for w in rotokas_words for cv in re.findall(r'[ptksvr][aeiou]', w)]\n",
    "cfd = nltk.ConditionalFreqDist(cvs) # CFD works pairwise only\n",
    "cfd.tabulate()"
   ]
  },
  {
   "cell_type": "code",
   "execution_count": null,
   "metadata": {},
   "outputs": [],
   "source": [
    "cv_word_pairs = [(cv, w) for w in rotokas_words for cv in re.findall(r'[ptksvr][aeiou]', w)]\n",
    "cv_index = nltk.Index(cv_word_pairs)\n",
    "cv_index['po']"
   ]
  }
 ],
 "metadata": {
  "kernelspec": {
   "display_name": "Python 3",
   "language": "python",
   "name": "python3"
  },
  "language_info": {
   "codemirror_mode": {
    "name": "ipython",
    "version": 3
   },
   "file_extension": ".py",
   "mimetype": "text/x-python",
   "name": "python",
   "nbconvert_exporter": "python",
   "pygments_lexer": "ipython3",
   "version": "3.6.5"
  }
 },
 "nbformat": 4,
 "nbformat_minor": 1
}
